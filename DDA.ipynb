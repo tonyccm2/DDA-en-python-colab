{
  "nbformat": 4,
  "nbformat_minor": 0,
  "metadata": {
    "colab": {
      "name": "DDA.ipynb",
      "provenance": [],
      "collapsed_sections": [],
      "authorship_tag": "ABX9TyOBcDcGSg4OAmQgYGFQZ0Ny",
      "include_colab_link": true
    },
    "kernelspec": {
      "name": "python3",
      "display_name": "Python 3"
    }
  },
  "cells": [
    {
      "cell_type": "markdown",
      "metadata": {
        "id": "view-in-github",
        "colab_type": "text"
      },
      "source": [
        "<a href=\"https://colab.research.google.com/github/tonyccm2/DDA-en-python-colab/blob/master/DDA.ipynb\" target=\"_parent\"><img src=\"https://colab.research.google.com/assets/colab-badge.svg\" alt=\"Open In Colab\"/></a>"
      ]
    },
    {
      "cell_type": "code",
      "metadata": {
        "id": "jWtRdMiWPRUR",
        "colab_type": "code",
        "colab": {
          "base_uri": "https://localhost:8080/",
          "height": 282
        },
        "outputId": "a1e6a112-11c7-4e5a-e1e0-64162f7324a6"
      },
      "source": [
        "#import os, sys\n",
        "from matplotlib.pyplot import imshow\n",
        "#import numpy as np\n",
        "from PIL import Image, ImageDraw\n",
        "\n",
        "\n",
        "from PIL import Image\n",
        "import matplotlib.pyplot as plt\n",
        "\n",
        "def ROUND(a):\n",
        "\treturn int(a + 0.5)\n",
        "\n",
        "x1=1\n",
        "y1=1\n",
        "x2=42\n",
        "y2=29\n",
        "#dibujar canvas\n",
        "blank_image = Image.new('RGB', (50, 50), 'white')\n",
        "img_draw = ImageDraw.Draw(blank_image)\n",
        "\n",
        "x,y = x1,y1\n",
        "img_draw.point((x,y),fill='blue')\n",
        "length = (x2-x1) if (x2-x1) > (y2-y1) else (y2-y1)\n",
        "dx = (x2-x1)/float(length)\n",
        "dy = (y2-y1)/float(length)\n",
        "for i in range(length):\n",
        "  x += dx\n",
        "  y += dy\n",
        "\n",
        "  #dibujar las lineas\n",
        "  img_draw.point((ROUND(x),ROUND(y)),fill='blue')\n",
        "\n",
        "\n",
        "#guardar la imagen\n",
        "blank_image.save('drawn_image.jpg')\n",
        "\n",
        "# Open your file image using the path\n",
        "img = Image.open('drawn_image.jpg')\n",
        "\n",
        "# Since plt knows how to handle instance of the Image class, just input your loaded image to imshow method\n",
        "plt.imshow(img,origin='lower')"
      ],
      "execution_count": 3,
      "outputs": [
        {
          "output_type": "execute_result",
          "data": {
            "text/plain": [
              "<matplotlib.image.AxesImage at 0x7fdf74421978>"
            ]
          },
          "metadata": {
            "tags": []
          },
          "execution_count": 3
        },
        {
          "output_type": "display_data",
          "data": {
            "image/png": "[encoded data removed]",
            "text/plain": [
              "<Figure size 432x288 with 1 Axes>"
            ]
          },
          "metadata": {
            "tags": [],
            "needs_background": "light"
          }
        }
      ]
    }
  ]
}